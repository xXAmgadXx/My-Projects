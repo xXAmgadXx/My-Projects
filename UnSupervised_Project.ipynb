{
  "nbformat": 4,
  "nbformat_minor": 0,
  "metadata": {
    "colab": {
      "provenance": []
    },
    "kernelspec": {
      "name": "python3",
      "display_name": "Python 3"
    },
    "language_info": {
      "name": "python"
    }
  },
  "cells": [
    {
      "cell_type": "code",
      "source": [
        "import numpy as np, numpy.random\n",
        "from scipy.spatial import distance\n",
        "import pandas as pd\n",
        "import numpy as np\n",
        "import pandas as pd\n",
        "import matplotlib.pyplot as plt"
      ],
      "metadata": {
        "id": "yUKg0-SKYCpk"
      },
      "execution_count": 2,
      "outputs": []
    },
    {
      "cell_type": "code",
      "source": [
        "class PCA:\n",
        "\n",
        "    def __init__(self, n_components):\n",
        "        self.n_components = n_components\n",
        "        self.components = None\n",
        "        self.mean = None\n",
        "\n",
        "    def fit(self, X):\n",
        "        # mean centering\n",
        "        self.mean = np.mean(X, axis=0)\n",
        "        X = X - self.mean\n",
        "\n",
        "        # covariance\n",
        "        cov = np.cov(X.T)\n",
        "\n",
        "        # eigenvalues, eigenvectors\n",
        "        eigenvalues, eigenvectors = np.linalg.eig(cov)\n",
        "\n",
        "        # eigenvectors v = [:, i] column vector, transpose this for easier calculations\n",
        "        eigenvectors = eigenvectors.T\n",
        "\n",
        "        # sort eigenvectors\n",
        "        idxs = np.argsort(eigenvalues)[::-1]\n",
        "\n",
        "        eigenvalues = eigenvalues[idxs]\n",
        "        eigenvectors = eigenvectors[idxs]\n",
        "\n",
        "        self.components = eigenvectors[:, :self.n_components]\n",
        "\n",
        "    def transform(self, X):\n",
        "        # projects data\n",
        "        X = X - self.mean\n",
        "        return np.dot(X, self.components)\n",
        "\n",
        "    def calculate_reconstruction_error(self, X):\n",
        "        # Standardize the data\n",
        "        X_std = (X - np.mean(X, axis=0)) / np.std(X, axis=0)\n",
        "\n",
        "        # Check if components are None (not fitted)\n",
        "        if self.components is None:\n",
        "            raise ValueError(\"PCA components are not fitted. Please call fit() before calculating reconstruction error.\")\n",
        "\n",
        "        # Transform data to PCA space\n",
        "        X_pca = self.transform(X_std)\n",
        "\n",
        "        # Reconstruct data back to the original space\n",
        "        X_reconstructed = np.dot(X_pca, self.components.T)\n",
        "\n",
        "        # Calculate reconstruction error\n",
        "        reconstruction_error = np.mean(np.square(X_std - X_reconstructed))\n",
        "        return reconstruction_error"
      ],
      "metadata": {
        "id": "TMdiPhV6YFGx"
      },
      "execution_count": 3,
      "outputs": []
    },
    {
      "cell_type": "code",
      "source": [
        "data = pd.read_csv('Body_Measurements.csv')\n",
        "X = data.to_numpy(dtype=int)\n",
        "\n",
        "# Standardize the data\n",
        "X_std = (X - np.mean(X, axis=0)) / np.std(X, axis=0)"
      ],
      "metadata": {
        "id": "DYfgQRXnYJV6"
      },
      "execution_count": 5,
      "outputs": []
    },
    {
      "cell_type": "code",
      "source": [
        "my_pca = PCA(n_components=1)\n",
        "\n",
        "# Fit PCA\n",
        "my_pca.fit(X_std)\n",
        "\n",
        "# Try different values of k\n",
        "k_values = range(1, min(X_std.shape) + 1)\n",
        "\n",
        "# Calculate reconstruction error using the method from the PCA class\n",
        "reconstruction_errors = [my_pca.calculate_reconstruction_error(X_std[:k]) for k in k_values]"
      ],
      "metadata": {
        "colab": {
          "base_uri": "https://localhost:8080/"
        },
        "id": "tMTsERjkYar1",
        "outputId": "7e37747a-e62c-451b-bf0d-d2e78e375a2d"
      },
      "execution_count": 10,
      "outputs": [
        {
          "output_type": "stream",
          "name": "stderr",
          "text": [
            "<ipython-input-3-a8ac7e22a90e>:37: RuntimeWarning: invalid value encountered in divide\n",
            "  X_std = (X - np.mean(X, axis=0)) / np.std(X, axis=0)\n"
          ]
        }
      ]
    },
    {
      "cell_type": "code",
      "source": [
        "pca = PCA(8)\n",
        "pca.fit(X)\n",
        "X_transformed = pca.transform(X)\n",
        "n = len(X_transformed)\n",
        "d = len(X_transformed[0])\n",
        "print(d)"
      ],
      "metadata": {
        "colab": {
          "base_uri": "https://localhost:8080/"
        },
        "id": "UeYxxJYOT7tA",
        "outputId": "457782ef-eb69-4035-d43d-a4ce52d0909c"
      },
      "execution_count": 12,
      "outputs": [
        {
          "output_type": "stream",
          "name": "stdout",
          "text": [
            "8\n"
          ]
        }
      ]
    },
    {
      "cell_type": "code",
      "source": [
        "plt.plot(k_values, reconstruction_errors, marker='o')\n",
        "plt.xlabel('Number of Principal Components (k)')\n",
        "plt.ylabel('Reconstruction Error')\n",
        "plt.title('Reconstruction Error for Different Values of k')\n",
        "plt.show()"
      ],
      "metadata": {
        "colab": {
          "base_uri": "https://localhost:8080/",
          "height": 472
        },
        "id": "LgIqX8SBYeKM",
        "outputId": "2bd3532c-1214-4a5d-e4d3-6935609dc687"
      },
      "execution_count": 13,
      "outputs": [
        {
          "output_type": "display_data",
          "data": {
            "text/plain": [
              "<Figure size 640x480 with 1 Axes>"
            ],
            "image/png": "[encoded data removed]"
          },
          "metadata": {}
        }
      ]
    },
    {
      "cell_type": "code",
      "source": [
        "\n",
        "\n",
        "# Fuzzy c means clustering algorithm\n",
        "N = 6\n",
        "g = 1.2\n",
        "\n",
        "#before pca\n",
        "n = len(X)\n",
        "d = len(X[0]) ## Number of features\n",
        "addZeros = np.zeros((n, 1))\n",
        "X = np.append(X, addZeros, axis=1)\n",
        "print(\"The FCM algorithm: \\n\")\n",
        "print(\"The training data: \\n\", X)\n",
        "print(\"\\nTotal number of data: \", n)\n",
        "print(\"Total number of features: \", d)\n",
        "print(\"Total number of Clusters: \", N)\n",
        "\n",
        "# Create an empty array of centers\n",
        "C = np.zeros((N, d + 1))\n",
        "# print(C)\n",
        "\n",
        "# Randomly initialize the membership matrix\n",
        "m = np.random.dirichlet(np.ones(N), size=n)\n",
        "print(\"\\nThe initial membership matrix: \\n\", np.round(m, 2))\n",
        "\n",
        "for it in range(15):  # Total number of iterations\n",
        "\n",
        "    # Compute centroid\n",
        "    for j in range(N):\n",
        "        denoSum = sum(np.power(m[:, j], g))\n",
        "\n",
        "        sumMM = 0\n",
        "        for i in range(n):\n",
        "            mm = np.multiply(np.power(m[i, j], g), X[i, :])\n",
        "            sumMM += mm\n",
        "        cc = sumMM / denoSum\n",
        "        C[j] = np.reshape(cc, d + 1)\n",
        "\n",
        "    # updating membership matrix\n",
        "    for i in range(n):\n",
        "        denoSumNext = 0\n",
        "        for j in range(N):\n",
        "            denoSumNext += np.power(1 / distance.euclidean(C[j, 0:d], X[i, 0:d]), 1 / (g - 1))\n",
        "        for j in range(N):\n",
        "            M = np.power((1 / distance.euclidean(C[j, 0:d], X[i, 0:d])), 1 / (g - 1)) / denoSumNext\n",
        "            m[i, j] = M\n",
        "\n",
        "print(\"\\nThe final membership matrix: \\n\", np.round(m, 2))\n",
        "# adding cluster number\n",
        "for i in range(n):\n",
        "    cNumber = np.where(m[i] == np.amax(m[i]))\n",
        "    X[i, d] = cNumber[0]\n",
        "\n",
        "print(\"\\nThe data with cluster number: \\n\", X)\n",
        "\n",
        "\n"
      ],
      "metadata": {
        "colab": {
          "base_uri": "https://localhost:8080/"
        },
        "id": "QoeXsiSzMEpq",
        "outputId": "45445254-cf90-4f0e-b6a8-26dfa3b06ba5"
      },
      "execution_count": null,
      "outputs": [
        {
          "output_type": "stream",
          "name": "stdout",
          "text": [
            "The FCM algorithm: \n",
            "\n",
            "The training data: \n",
            " [[30. 22. 18. ... 22. 52.  0.]\n",
            " [28. 19. 22. ... 20. 56.  0.]\n",
            " [27. 21. 18. ... 18. 53.  0.]\n",
            " ...\n",
            " [ 4. 20. 17. ... 22. 40.  0.]\n",
            " [13. 20. 15. ... 33. 59.  0.]\n",
            " [ 4. 20. 15. ... 19. 37.  0.]]\n",
            "\n",
            "Total number of data:  716\n",
            "Total number of features:  12\n",
            "Total number of Clusters:  6\n",
            "\n",
            "The initial membership matrix: \n",
            " [[0.26 0.09 0.17 0.15 0.28 0.05]\n",
            " [0.06 0.23 0.14 0.19 0.02 0.36]\n",
            " [0.06 0.12 0.04 0.08 0.67 0.04]\n",
            " ...\n",
            " [0.03 0.06 0.43 0.25 0.   0.22]\n",
            " [0.1  0.01 0.05 0.42 0.1  0.32]\n",
            " [0.17 0.01 0.18 0.03 0.07 0.53]]\n",
            "\n",
            "The final membership matrix: \n",
            " [[0.01 0.86 0.   0.11 0.01 0.  ]\n",
            " [0.02 0.73 0.01 0.21 0.02 0.  ]\n",
            " [0.1  0.71 0.   0.14 0.03 0.01]\n",
            " ...\n",
            " [0.04 0.   0.   0.   0.8  0.15]\n",
            " [0.25 0.09 0.03 0.45 0.16 0.01]\n",
            " [0.04 0.   0.   0.   0.33 0.63]]\n",
            "\n",
            "The data with cluster number: \n",
            " [[30. 22. 18. ... 22. 52.  1.]\n",
            " [28. 19. 22. ... 20. 56.  1.]\n",
            " [27. 21. 18. ... 18. 53.  1.]\n",
            " ...\n",
            " [ 4. 20. 17. ... 22. 40.  4.]\n",
            " [13. 20. 15. ... 33. 59.  3.]\n",
            " [ 4. 20. 15. ... 19. 37.  5.]]\n"
          ]
        }
      ]
    },
    {
      "cell_type": "code",
      "source": [
        "\n",
        "# after pca\n",
        "\n",
        "\n",
        "\n",
        "# Print the number of data and dimension\n",
        "\n",
        "addZeros = np.zeros((n, 1))\n",
        "X_transformed = np.append(X_transformed, addZeros, axis=1)\n",
        "print(\"The FCM algorithm: \\n\")\n",
        "print(\"The training data: \\n\", X_transformed)\n",
        "print(\"\\nTotal number of data: \", n)\n",
        "print(\"Total number of features: \", d)\n",
        "print(\"Total number of Clusters: \", N)\n",
        "\n",
        "# Create an empty array of centers\n",
        "C = np.zeros((N, d +1 ))\n",
        "# print(C)\n",
        "\n",
        "# Randomly initialize the membership matrix\n",
        "m = np.random.dirichlet(np.ones(N), size=n)\n",
        "print(\"\\nThe initial membership matrix: \\n\", np.round(m, 2))\n",
        "\n",
        "for it in range(15):  # Total number of iterations\n",
        "\n",
        "    # Compute centroid\n",
        "    for j in range(N):\n",
        "        denoSum = sum(np.power(m[:, j], g))\n",
        "\n",
        "        sumMM = 0\n",
        "        for i in range(n):\n",
        "            mm = np.multiply(np.power(m[i, j], g), X_transformed[i, :])\n",
        "            sumMM += mm\n",
        "        cc = sumMM / denoSum\n",
        "        C[j] = np.reshape(cc, d +1)\n",
        "\n",
        "    # updating membership matrix\n",
        "    for i in range(n):\n",
        "        denoSumNext = 0\n",
        "        for j in range(N):\n",
        "            denoSumNext += np.power(1 / distance.euclidean(C[j, 0:d], X_transformed[i, 0:d]), 1 / (g - 1))\n",
        "        for j in range(N):\n",
        "            M = np.power((1 / distance.euclidean(C[j, 0:d], X_transformed[i, 0:d])), 1 / (g - 1)) / denoSumNext\n",
        "            m[i, j] = M\n",
        "\n",
        "print(\"\\nThe final membership matrix: \\n\", np.round(m, 2))\n",
        "#adding cluster number\n",
        "for i in range(n):\n",
        "    cNumber = np.where(m[i] == np.amax(m[i]))\n",
        "    X_transformed[i, d] = cNumber[0]\n",
        "\n",
        "print(\"\\nThe data with cluster number: \\n\", X_transformed)"
      ],
      "metadata": {
        "colab": {
          "base_uri": "https://localhost:8080/"
        },
        "id": "ppT6K8s3MWKS",
        "outputId": "b5758eda-eea6-4289-df78-665539748c7d"
      },
      "execution_count": null,
      "outputs": [
        {
          "output_type": "stream",
          "name": "stdout",
          "text": [
            "The FCM algorithm: \n",
            "\n",
            "The training data: \n",
            " [[11.62032429 -3.21474189 -7.05991211 -0.16977963  7.5723108   0.        ]\n",
            " [12.1494022  -5.98726174 -2.05343819  5.36684617  3.46724336  0.        ]\n",
            " [ 8.91379286 -8.7720347  -1.55254619 -3.49117191  2.17371738  0.        ]\n",
            " ...\n",
            " [-6.78177502 -6.48127342  4.79257432  1.25913176 -4.65111877  0.        ]\n",
            " [-0.34325865  5.20088666  2.22682563  2.81385055 -0.74562463  0.        ]\n",
            " [-8.6982186  -9.60852859  5.15502387  0.1038669  -5.14367392  0.        ]]\n",
            "\n",
            "Total number of data:  716\n",
            "Total number of features:  5\n",
            "Total number of Clusters:  6\n",
            "\n",
            "The initial membership matrix: \n",
            " [[0.01 0.17 0.03 0.14 0.61 0.03]\n",
            " [0.13 0.38 0.24 0.07 0.06 0.13]\n",
            " [0.01 0.77 0.08 0.06 0.01 0.07]\n",
            " ...\n",
            " [0.31 0.03 0.41 0.09 0.   0.16]\n",
            " [0.11 0.06 0.15 0.49 0.12 0.07]\n",
            " [0.12 0.3  0.01 0.11 0.24 0.23]]\n",
            "\n",
            "The final membership matrix: \n",
            " [[0.   0.   0.02 0.   0.96 0.02]\n",
            " [0.   0.   0.   0.   1.   0.  ]\n",
            " [0.   0.01 0.02 0.01 0.96 0.  ]\n",
            " ...\n",
            " [0.   0.04 0.   0.96 0.   0.  ]\n",
            " [0.   0.01 0.78 0.15 0.03 0.02]\n",
            " [0.   0.27 0.01 0.71 0.01 0.  ]]\n",
            "\n",
            "The data with cluster number: \n",
            " [[11.62032429 -3.21474189 -7.05991211 -0.16977963  7.5723108   4.        ]\n",
            " [12.1494022  -5.98726174 -2.05343819  5.36684617  3.46724336  4.        ]\n",
            " [ 8.91379286 -8.7720347  -1.55254619 -3.49117191  2.17371738  4.        ]\n",
            " ...\n",
            " [-6.78177502 -6.48127342  4.79257432  1.25913176 -4.65111877  3.        ]\n",
            " [-0.34325865  5.20088666  2.22682563  2.81385055 -0.74562463  2.        ]\n",
            " [-8.6982186  -9.60852859  5.15502387  0.1038669  -5.14367392  3.        ]]\n"
          ]
        }
      ]
    }
  ]
}